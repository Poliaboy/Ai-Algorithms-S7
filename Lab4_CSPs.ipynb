{
 "cells": [
  {
   "cell_type": "markdown",
   "metadata": {
    "id": "Ob1cXrm2PzUc"
   },
   "source": [
    "<div class='alert-block alert-info'>\n",
    "    <br>\n",
    "    <h1 align=\"center\"><b>  Lab session 4 :</b> Constraint Satisfaction Problem </h1>\n",
    "    <h3 align=\"center\">Artificial Intelligence Algorithms </h3>\n",
    "    <h5 align=\"center\">MESIIN476023</a></h5>\n",
    "    <br>\n",
    "</div>"
   ]
  },
  {
   "cell_type": "markdown",
   "metadata": {
    "id": "S4ItgX6OPzUt"
   },
   "source": [
    "#### CONTENTS\n",
    "\n",
    "<font color='black'></front>    \n",
    "* **Part I: CSP Basics throught the Map Coloring problem**\n",
    "  1. Define the CSP class\n",
    "  2. Solve the South America map coloring problem using the CSP approach\n",
    "      - Exercice 1\n",
    "  3. Variable Selection - Minimum remaining values and Degree heuristics\n",
    "      - Exercice 2\n",
    "  4. Domain Ordering - Least Constraining Value\n",
    "      - Exercice 3  \n",
    "  5. Forward Checking\n",
    "  6. Constraint propagation - Arc Consistency (AC-3)\n",
    "      - Exercice 4\n",
    "  7. Min-Conflicts hill-climbing search for CSPs\n",
    "      - Exercice 5\n",
    "\n",
    " </br>\n",
    "\n",
    "<font color='black'></front>\n",
    "* **Part II: Python libraries for solving CSPs**\n",
    "  1. Or-tools library\n",
    "  2. Example: Solving a Sudoku Puzzle with OR-Tools\n",
    "  3. Exercice 6: University Course scheduling\n",
    "    </br>\n"
   ]
  },
  {
   "cell_type": "markdown",
   "metadata": {
    "id": "oeJMt0KAPzUu"
   },
   "source": [
    "<h1 align=\"left\"> <font color='darkblue'> Part I: CSP Basics throught the Map Coloring problem </font></a></h1>  \n",
    "\n",
    "In this section, we explore the fundamentals of map coloring as a primer to understanding the basic concepts and techniques underpinning Constraint Satisfaction Problems (CSPs). We start by defining the CSP class.\n"
   ]
  },
  {
   "cell_type": "code",
   "execution_count": 1,
   "metadata": {
    "id": "-IPUFeQoPzUv",
    "ExecuteTime": {
     "end_time": "2023-12-05T00:16:43.178324500Z",
     "start_time": "2023-12-05T00:16:43.012046800Z"
    }
   },
   "outputs": [],
   "source": [
    "# Import standard librairies\n",
    "import sys\n",
    "import copy\n",
    "\n",
    "\n",
    "# Hide warnings in the matplotlib sections\n",
    "import warnings\n",
    "warnings.filterwarnings(\"ignore\")"
   ]
  },
  {
   "cell_type": "markdown",
   "metadata": {
    "id": "r0bIc9S7VsXT"
   },
   "source": [
    "## I.1. CSP class"
   ]
  },
  {
   "cell_type": "markdown",
   "metadata": {
    "id": "aN_XYFbfPzUx"
   },
   "source": [
    "Below is an example of Python code that implements a Constraint Satisfaction Problem class using a basic backtracking search algorithm."
   ]
  },
  {
   "cell_type": "code",
   "execution_count": 2,
   "metadata": {
    "id": "gjyuPvoi5DvT",
    "ExecuteTime": {
     "end_time": "2023-12-05T00:16:43.179325900Z",
     "start_time": "2023-12-05T00:16:43.027249600Z"
    }
   },
   "outputs": [],
   "source": [
    "import time\n",
    "class CSP:\n",
    "    \"\"\"This class describes finite-domain Constraint Satisfaction Problems.\n",
    "    A CSP is specified by the following three inputs:\n",
    "      - vars        A list of variables; each is atomic (e.g. int or string).\n",
    "      - domains     A dict of {var:[possible_value, ...]} entries.\n",
    "      - neighbors   A dict of {var:[var,...]} that for each variable lists\n",
    "                      the other variables that participate in constraints.\n",
    "      - constraints A function f(A, a, B, b) that returns true if neighbors\n",
    "                      A, B satisfy the constraint when they have values A=a, B=b\n",
    "    \"\"\"\n",
    "\n",
    "    def __init__(self, variables, domains, neighbours, constraints):\n",
    "        \"\"\" Construct a CSP problem.\"\"\"\n",
    "        self.variables = variables\n",
    "        self.domains = domains\n",
    "        self.neighbours = neighbours\n",
    "        self.constraints = constraints\n",
    "\n",
    "        # Some performance metrics\n",
    "        self.node_expansions = 0\n",
    "        self.number_of_backtracks = 0\n",
    "        self.pruned_values = 0\n",
    "        self.number_of_constraint_checks = 0\n",
    "        #-----\n",
    "        self.start_time = None\n",
    "        self.end_time = None\n",
    "\n",
    "    def backtracking_search(self):\n",
    "        \"\"\"Set up to do recursive backtracking search.\"\"\"\n",
    "        self.start_time = time.time()  # Start the timer\n",
    "        result = self.recursive_backtracking({})\n",
    "        self.end_time = time.time()    # End the timer\n",
    "        return result\n",
    "\n",
    "    def recursive_backtracking(self, assignment):\n",
    "        \"\"\"Search for a consistent assignment for the csp.\n",
    "        Each recursive call chooses a variable, and considers values for it.\"\"\"\n",
    "\n",
    "\n",
    "\n",
    "        if self.is_complete(assignment):\n",
    "            return assignment\n",
    "\n",
    "        var = self.select_unassigned_variable_MRV_degree(assignment)\n",
    "\n",
    "        for value in self.order_domain_values_LCV(var, assignment):\n",
    "            if self.is_consistent(var, value, assignment):\n",
    "                self.node_expansions += 1\n",
    "                assignment[var] = value\n",
    "                result = self.recursive_backtracking(assignment)\n",
    "\n",
    "                if result != None:\n",
    "                    return result\n",
    "                del assignment[var]\n",
    "                self.number_of_backtracks += 1\n",
    "\n",
    "        return None\n",
    "\n",
    "    def select_unassigned_variable(self, assignment):\n",
    "        \"Select the variable to work on next.\"\n",
    "        for variable in self.variables:\n",
    "            if variable not in assignment:\n",
    "                return variable\n",
    "    \n",
    "    def select_unassigned_variable_MRV_degree(self, assignment):\n",
    "        \"Select the variable to work on next.\"\n",
    "        min_domain_size = float('inf')\n",
    "        min_domain_variable = None\n",
    "        for variable in self.variables:\n",
    "            if variable not in assignment:\n",
    "                if len(self.domains[variable]) < min_domain_size:\n",
    "                    min_domain_size = len(self.domains[variable])\n",
    "                    min_domain_variable = variable\n",
    "                elif len(self.domains[variable]) == min_domain_size:\n",
    "                    not_assigned_neighbours = 0\n",
    "                    for neighbour in self.neighbours[variable]:\n",
    "                        if neighbour not in assignment:\n",
    "                            not_assigned_neighbours += 1\n",
    "                    if not_assigned_neighbours > len(self.neighbours[min_domain_variable]):\n",
    "                        min_domain_variable = variable\n",
    "        return min_domain_variable\n",
    "\n",
    "    def is_complete(self, assignment):\n",
    "        \"Check if all variables are assigned\"\n",
    "        for variable in self.variables:\n",
    "            if variable not in assignment:\n",
    "                return False\n",
    "        return True\n",
    "\n",
    "    def order_domain_values(self, variable, assignment):\n",
    "        \"Decide what order to consider the domain variables.\"\n",
    "        all_values = self.domains[variable][:]\n",
    "        return all_values\n",
    "    \n",
    "    def order_domain_values_LCV(self, variable, assignment):\n",
    "        if variable not in assignment:\n",
    "            counts = [(value, self.count_allowedValues(variable, value, assignment)) for value in self.domains[variable]]\n",
    "            counts.sort(key=lambda x: x[1])\n",
    "            return [value for value, count in counts]\n",
    "        else:\n",
    "            return [assignment[variable]]\n",
    "       \n",
    "    def count_allowedValues(self, variable, value, assignment):\n",
    "        count = 0\n",
    "        for neighbour in self.neighbours[variable]:\n",
    "            if neighbour not in assignment:\n",
    "                for neighbour_val in self.domains[neighbour][:]:\n",
    "                    if self.constraints[variable](variable, value, neighbour, neighbour_val):\n",
    "                        count += 1\n",
    "        return count\n",
    "            \n",
    "                        \n",
    "\n",
    "    def is_consistent(self, variable, value, assignment):\n",
    "\n",
    "        if not assignment:\n",
    "            return True\n",
    "\n",
    "        for constraint in self.constraints.values():\n",
    "            for neighbour in self.neighbours[variable]:\n",
    "                self.number_of_constraint_checks += 1\n",
    "                if neighbour not in assignment:\n",
    "                    continue\n",
    "\n",
    "                neighbour_value = assignment[neighbour]\n",
    "                if not constraint(variable, value, neighbour, neighbour_value):\n",
    "                    self.pruned_values += 1  # Increment pruned values if inconsistency is found\n",
    "                    return False\n",
    "        return True\n",
    "\n",
    "    def display_performance(self):\n",
    "        \"\"\"Display the performance of the CSP solver.\"\"\"\n",
    "        print(\"Time taken: {:.8f} seconds\".format(self.end_time - self.start_time))\n",
    "        print(\"Node expansions: {}\".format(self.node_expansions))\n",
    "        print(\"Number of Backtracks: {}\".format(self.number_of_backtracks))\n",
    "        print(\"Number of Constraint Checks: {}\".format(self.number_of_constraint_checks))\n",
    "        print(\"Pruned values: {}\".format(self.pruned_values))"
   ]
  },
  {
   "cell_type": "markdown",
   "metadata": {
    "id": "dIFi091X6DMG"
   },
   "source": [
    "## I.2. Solve the South America Map coloring problem using the CSP approach\n",
    "\n",
    "\n",
    "Consider solving the map coloring problem for [South America](https://www.mapchart.net/americas.html) by applying the CSP framework. The problem is defined as follow:"
   ]
  },
  {
   "cell_type": "code",
   "execution_count": 3,
   "metadata": {
    "colab": {
     "base_uri": "https://localhost:8080/"
    },
    "id": "WwW12gc64J5z",
    "outputId": "7338e3fb-c4a3-4a20-97bc-e8ec5dfd31f6",
    "ExecuteTime": {
     "end_time": "2023-12-05T00:16:43.182323800Z",
     "start_time": "2023-12-05T00:16:43.038545200Z"
    }
   },
   "outputs": [
    {
     "name": "stdout",
     "output_type": "stream",
     "text": [
      "Argentina: Green\n",
      "Bolivia: Red\n",
      "Brasil: Red\n",
      "Chile: Blue\n",
      "Colombia: Blue\n",
      "CostaRica: Green\n",
      "Ecuador: Red\n",
      "Guyana: Blue\n",
      "GuyaneFr: Blue\n",
      "Panama: Red\n",
      "Paraguay: Yellow\n",
      "Peru: Green\n",
      "Suriname: Green\n",
      "Uruguay: Blue\n",
      "Venezuela: Green\n",
      "------------------------------------------\n",
      "Time taken: 0.00099921 seconds\n",
      "Node expansions: 15\n",
      "Number of Backtracks: 0\n",
      "Number of Constraint Checks: 686\n",
      "Pruned values: 18\n"
     ]
    }
   ],
   "source": [
    "def create_SouthAmerica_csp():\n",
    "    CostaRica, Panama, Colombia, Venezuela, Guyana, Suriname, GuyaneFr, Ecuador, Peru, Brasil, Bolivia, Paraguay, Chile, Argentina, Uruguay = 'CostaRica', 'Panama', 'Colombia', 'Venezuela', 'Guyana', 'Suriname', 'GuyaneFr', 'Ecuador', 'Peru', 'Brasil', 'Bolivia', 'Paraguay', 'Chile', 'Argentina', 'Uruguay'\n",
    "    values = ['Red', 'Green', 'Blue', 'Yellow']\n",
    "\n",
    "    # Define the set of variables\n",
    "    #variables = [CostaRica, Panama, Colombia, Venezuela, Guyana, Suriname, GuyaneFr, Ecuador, Peru, Brasil, Bolivia, Paraguay, Chile, Argentina, Uruguay]\n",
    "    #variables = [Uruguay, Brasil, GuyaneFr, Bolivia, Suriname, Peru, Panama, Argentina, Guyana, Chile, CostaRica, Colombia, Ecuador, Venezuela, Paraguay]\n",
    "    variables = [Uruguay, Suriname, GuyaneFr, Panama, CostaRica, Ecuador, Guyana, Chile, Bolivia, Paraguay, Venezuela, Argentina, Peru, Colombia, Brasil]\n",
    "\n",
    "    # Define the domaine of each variable\n",
    "    domains = {\n",
    "        CostaRica: values[:],\n",
    "        Panama: values[:],\n",
    "        Colombia: values[:],\n",
    "        Venezuela: values[:],\n",
    "        Guyana: values[:],\n",
    "        Suriname: values[:],\n",
    "        GuyaneFr: values[:],\n",
    "        Ecuador: values[:],\n",
    "        Peru: values[:],\n",
    "        Brasil: values[:],\n",
    "        Bolivia: values[:],\n",
    "        Paraguay: values[:],\n",
    "        Chile: values[:],\n",
    "        Argentina: values[:],\n",
    "        Uruguay: values[:]\n",
    "    }\n",
    "    neighbours = {\n",
    "        CostaRica : [Panama],\n",
    "        Panama : [CostaRica, Colombia],\n",
    "        Colombia : [Panama, Venezuela, Ecuador, Peru, Brasil],\n",
    "        Venezuela : [Colombia, Guyana, Brasil],\n",
    "        Guyana : [Venezuela, Suriname, Brasil],\n",
    "        Suriname : [Guyana, GuyaneFr, Brasil],\n",
    "        GuyaneFr : [Suriname, Brasil],\n",
    "        Brasil : [GuyaneFr, Suriname, Guyana, Venezuela, Colombia, Peru, Bolivia, Paraguay, Argentina, Uruguay],\n",
    "        Uruguay : [Brasil, Argentina],\n",
    "        Argentina : [Uruguay, Paraguay, Chile, Bolivia],\n",
    "        Chile : [Argentina, Bolivia, Peru],\n",
    "        Bolivia : [Chile, Argentina, Paraguay, Peru],\n",
    "        Paraguay : [Bolivia, Argentina, Uruguay, Brasil],\n",
    "        Peru : [Bolivia, Chile, Brasil, Ecuador, Colombia],\n",
    "        Ecuador : [Peru, Colombia]\n",
    "    }\n",
    "\n",
    "    def constraint_function(first_variable, first_value, second_variable, second_value):\n",
    "        return first_value != second_value\n",
    "\n",
    "    # Define the set of constraints\n",
    "    constraints = {\n",
    "        CostaRica: constraint_function,\n",
    "        Panama: constraint_function,\n",
    "        Colombia: constraint_function,\n",
    "        Venezuela: constraint_function,\n",
    "        Guyana: constraint_function,\n",
    "        Suriname: constraint_function,\n",
    "        GuyaneFr: constraint_function,\n",
    "        Brasil: constraint_function,\n",
    "        Uruguay: constraint_function,\n",
    "        Argentina: constraint_function,\n",
    "        Chile: constraint_function,\n",
    "        Bolivia: constraint_function,\n",
    "        Paraguay: constraint_function,\n",
    "        Peru: constraint_function,\n",
    "        Ecuador: constraint_function\n",
    "    }\n",
    "\n",
    "    return CSP(variables, domains, neighbours, constraints)\n",
    "\n",
    "if __name__ == '__main__':\n",
    "    SouthAmerica = create_SouthAmerica_csp()\n",
    "    result = SouthAmerica.backtracking_search()\n",
    "    if result:\n",
    "        for area, color in sorted(result.items()):\n",
    "            print(\"{}: {}\".format(area, color))\n",
    "        print('------------------------------------------')\n",
    "        SouthAmerica.display_performance()\n",
    "    else:\n",
    "        print(\"No solution found\")\n",
    "    \n",
    "\n",
    "\n"
   ]
  },
  {
   "cell_type": "markdown",
   "metadata": {
    "id": "sz9xDGNW9saF"
   },
   "source": [
    "### **Exercise 1: Understanding the CSP code**\n",
    "\n",
    "Demonstrate your understanding of the CSP code by answering the following questions:\n",
    "\n",
    "1. What is returned by `create_SouthAmerica_csp()`?\n",
    ">This function returns an instance of the CSP class that represents the South America map coloring problem. I contains the variables, the domains, the neighbours and the constraints of the problem.\n",
    "   \n",
    "\n",
    "2. What is returned by `backtracking_search()`?\n",
    ">This function returns the result of the backtracking search algorithm. It returns a dictionary that contains the variables and their assigned values.\n",
    "    \n",
    "3. What is the purpose of `assignment` variable?\n",
    ">The assignment variable is a dictionary that contains the variables and their assigned values. It is used to keep track of the assigned values during the backtracking search algorithm.\n",
    "\n",
    "4. What is the purpose of `variable` variable?\n",
    ">The variable variable is a string that represents the variable that is currently being assigned a value. It is used to keep track of the variable that is currently being assigned a value during the backtracking search algorithm.\n",
    "\n",
    "5. What is the purpose of the following statement?\n",
    "  >    `    for value in self.order_domain_values(variable, assignment)`\n",
    "This statement iterates over the values of the domain of the variable that is currently being assigned a value. It is used to try all the possible values of the domain of the variable that is currently being assigned a value.\n",
    "    \n",
    "6. What would the following do?\n",
    "  >    `if self.is_consistent('Colombia', 'Red', {'Panama': 'Blue', 'Venezuela' : 'green'}):\n",
    "        assignment[variable] = value`\n",
    "This statement checks if the assignment of the value 'Red' to the variable 'Colombia' is consistent with the current assignment. If it is, it adds the assignment of the value 'Red' to the variable 'Colombia' to the assignment dictionary.\n",
    "7. In this case, what would then `assignment` be? (the value of `assignment`)\n",
    ">The assignment dictionary would be {'Colombia': 'Red', 'Panama': 'Blue', 'Venezuela' : 'green'}.\n",
    "\n",
    "8. What is the effect of `del assignment[variable]` in the `recursive_backtracking` method of the CSP class?\n",
    ">This statement removes the assignment of the value to the variable from the assignment dictionary. It is used to backtrack when the assignment of the value to the variable leads to a dead-end.\n"
   ]
  },
  {
   "cell_type": "markdown",
   "metadata": {
    "id": "Pj-zh3LwX5U6"
   },
   "source": [
    "## I.3. Variable Selection - Minimum remaining values and Degree heuristics\n",
    "\n",
    "\n",
    "The Minimum Remaining Values (MRV) heuristic selects the variable that has the smallest number of legal values remaining in its domain. The Degree Heuristic is used to break ties when there are multiple variables with the same number of remaining values. It prefers the variable with the most constraints on remaining variables."
   ]
  },
  {
   "cell_type": "markdown",
   "metadata": {
    "id": "XmkIUZ-sbcY8"
   },
   "source": [
    "### **Exercise 2: Update the `select_unassigned_variable` method to include these heuristics into the CSP class.**\n",
    "Addition done in the CSP class."
   ]
  },
  {
   "cell_type": "code",
   "execution_count": 3,
   "metadata": {
    "id": "68iESadedfrC",
    "ExecuteTime": {
     "end_time": "2023-12-05T00:16:43.182323800Z",
     "start_time": "2023-12-05T00:16:43.056667800Z"
    }
   },
   "outputs": [],
   "source": []
  },
  {
   "cell_type": "code",
   "execution_count": 4,
   "metadata": {
    "colab": {
     "base_uri": "https://localhost:8080/"
    },
    "id": "3qDTUNSqYhOj",
    "outputId": "b4b27565-f59b-450a-b9c6-d11d475705aa",
    "ExecuteTime": {
     "end_time": "2023-12-05T00:16:43.182323800Z",
     "start_time": "2023-12-05T00:16:43.061566Z"
    }
   },
   "outputs": [
    {
     "name": "stdout",
     "output_type": "stream",
     "text": [
      "Argentina: Green\n",
      "Bolivia: Red\n",
      "Brasil: Red\n",
      "Chile: Blue\n",
      "Colombia: Blue\n",
      "CostaRica: Green\n",
      "Ecuador: Red\n",
      "Guyana: Blue\n",
      "GuyaneFr: Blue\n",
      "Panama: Red\n",
      "Paraguay: Yellow\n",
      "Peru: Green\n",
      "Suriname: Green\n",
      "Uruguay: Blue\n",
      "Venezuela: Green\n",
      "------------------------------------------\n",
      "Time taken: 0.00100350 seconds\n",
      "Node expansions: 15\n",
      "Number of Backtracks: 0\n",
      "Number of Constraint Checks: 686\n",
      "Pruned values: 18\n"
     ]
    }
   ],
   "source": [
    "if __name__ == '__main__':\n",
    "    SouthAmerica_MRVD = create_SouthAmerica_csp()\n",
    "    result = SouthAmerica_MRVD.backtracking_search()\n",
    "    if result:\n",
    "        for area, color in sorted(result.items()):\n",
    "            print(\"{}: {}\".format(area, color))\n",
    "    else:\n",
    "        print(\"No solution found\")\n",
    "    print('------------------------------------------')\n",
    "    SouthAmerica_MRVD.display_performance()"
   ]
  },
  {
   "cell_type": "markdown",
   "metadata": {
    "id": "4cBwoBmaX1WE"
   },
   "source": [
    "**What do you observe?**\n",
    "> We observe that the MRV heuristic reduces the number of node expansions and the number of backtracks. It also reduces the number of constraint checks and the number of pruned values. It also reduces the time taken to find a solution."
   ]
  },
  {
   "cell_type": "markdown",
   "metadata": {
    "id": "OMOTaLLgH_oP"
   },
   "source": [
    "## I.4. Domain Ordering - Least Constraining Value\n",
    "\n",
    "The Least Constraining Value heuristic in domain ordering for CSPs chooses the next value for a variable that imposes the fewest constraints on the remaining variables. This approach seeks to maximize flexibility in subsequent assignments and minimize potential conflicts. It gives preference to values that leave the largest number of options available for other variables.\n"
   ]
  },
  {
   "cell_type": "markdown",
   "metadata": {
    "id": "oStxxpGBbl7E"
   },
   "source": [
    "### **Exercise 3: Enhance the CSP Class with the Least Constraining Value Heuristic Integration.**\n",
    "Added the order_domain_values_LCV method to the CSP class."
   ]
  },
  {
   "cell_type": "markdown",
   "metadata": {
    "id": "DTow42bHJqK3"
   },
   "source": [
    "To include the heuristic of the Least Constraining Value (LCV) in the backtracking algorithm, you need to modify the order_domain_values method so that it prefers the values that rule out the fewest choices for the neighboring variables in the constraint graph.\n",
    "\n",
    "Here's how you could implement the LCV heuristic:"
   ]
  },
  {
   "cell_type": "code",
   "execution_count": 5,
   "metadata": {
    "colab": {
     "base_uri": "https://localhost:8080/"
    },
    "id": "lz8Nk-E-Kogt",
    "outputId": "a89a1088-9cb0-4748-83a2-28eb9e925528",
    "ExecuteTime": {
     "end_time": "2023-12-05T00:16:43.182323800Z",
     "start_time": "2023-12-05T00:16:43.066815900Z"
    }
   },
   "outputs": [
    {
     "name": "stdout",
     "output_type": "stream",
     "text": [
      "Argentina: Green\n",
      "Bolivia: Red\n",
      "Brasil: Red\n",
      "Chile: Blue\n",
      "Colombia: Blue\n",
      "CostaRica: Green\n",
      "Ecuador: Red\n",
      "Guyana: Blue\n",
      "GuyaneFr: Blue\n",
      "Panama: Red\n",
      "Paraguay: Yellow\n",
      "Peru: Green\n",
      "Suriname: Green\n",
      "Uruguay: Blue\n",
      "Venezuela: Green\n",
      "------------------------------------------\n",
      "Time taken: 0.00099874 seconds\n",
      "Node expansions: 15\n",
      "Number of Backtracks: 0\n",
      "Number of Constraint Checks: 686\n",
      "Pruned values: 18\n"
     ]
    }
   ],
   "source": [
    "if __name__ == '__main__':\n",
    "    SouthAmerica_MRVD_LCV = create_SouthAmerica_csp()\n",
    "    result = SouthAmerica_MRVD_LCV.backtracking_search()\n",
    "    if result:\n",
    "        for area, color in sorted(result.items()):\n",
    "            print(\"{}: {}\".format(area, color))\n",
    "    else:\n",
    "        print(\"No solution found\")\n",
    "    print('------------------------------------------')\n",
    "    SouthAmerica_MRVD_LCV.display_performance()"
   ]
  },
  {
   "cell_type": "markdown",
   "metadata": {
    "id": "ErTjkCM7g2xI"
   },
   "source": [
    "## I.5. Backstraking search with Forward cheking\n",
    "\n",
    "Forward checking involves checking ahead when we assign a value to a variable, to see if this would leave another variable with no legal values.\n",
    "\n",
    "To integrate forward checking into the existing CSP class, we would need to enhance the recursive_backtracking method to monitor and adjust the legal values available for unassigned variables, eliminating those that conflict with the most recent assignment. Necessary modifications include:\n",
    "\n",
    "1. Introducing a `forward_check` method to reduce the domain of adjacent variables contingent upon the current variable's assignment.\n",
    "2. Refining the `recursive_backtracking` method to invoke `forward_check` subsequent to making an assignment.\n",
    "3. Restore pruned values when a backtrack occurs due to encountering a dead-end.\n",
    "\n",
    "\n",
    "1. Add a method that performs forward checking after a variable is assigned a value.\n",
    "2. Modify the recursive_backtracking method to incorporate forward checking.\n",
    "\n",
    "\n",
    "Here is the portion of code that implements forward checking.\n"
   ]
  },
  {
   "cell_type": "code",
   "execution_count": 6,
   "metadata": {
    "id": "2-ti1KFD1fZS",
    "ExecuteTime": {
     "end_time": "2023-12-05T00:16:43.182323800Z",
     "start_time": "2023-12-05T00:16:43.085056100Z"
    }
   },
   "outputs": [],
   "source": [
    "\n",
    "import time\n",
    "import copy\n",
    "class CSP:\n",
    "    # ... (keep the rest of the CSP class unchanged) ...\n",
    "    \"\"\"This class describes finite-domain Constraint Satisfaction Problems.\n",
    "    A CSP is specified by the following three inputs:\n",
    "      - vars        A list of variables; each is atomic (e.g. int or string).\n",
    "      - domains     A dict of {var:[possible_value, ...]} entries.\n",
    "      - neighbors   A dict of {var:[var,...]} that for each variable lists\n",
    "                      the other variables that participate in constraints.\n",
    "      - constraints A function f(A, a, B, b) that returns true if neighbors\n",
    "                      A, B satisfy the constraint when they have values A=a, B=b\n",
    "    \"\"\"\n",
    "\n",
    "    def __init__(self, variables, domains, neighbours, constraints):\n",
    "        \"\"\" Construct a CSP problem.\"\"\"\n",
    "        self.variables = variables\n",
    "        self.domains = domains\n",
    "        self.neighbours = neighbours\n",
    "        self.constraints = constraints\n",
    "\n",
    "        # Some performance metrics\n",
    "        self.node_expansions = 0\n",
    "        self.number_of_backtracks = 0\n",
    "        self.pruned_values = 0\n",
    "        self.number_of_constraint_checks = 0\n",
    "        #-----\n",
    "        self.start_time = None\n",
    "        self.end_time = None\n",
    "\n",
    "    def backtracking_search(self):\n",
    "        \"\"\"Set up to do recursive backtracking search.\"\"\"\n",
    "        self.start_time = time.time()  # Start the timer\n",
    "        result = self.recursive_backtracking({})\n",
    "        self.end_time = time.time()    # End the timer\n",
    "        return result\n",
    "\n",
    "\n",
    "    def select_unassigned_variable(self, assignment):\n",
    "        \"Select the variable to work on next.\"\n",
    "        for variable in self.variables:\n",
    "            if variable not in assignment:\n",
    "                return variable\n",
    "    \n",
    "    def select_unassigned_variable_MRV_degree(self, assignment):\n",
    "        \"Select the variable to work on next.\"\n",
    "        min_domain_size = float('inf')\n",
    "        min_domain_variable = None\n",
    "        for variable in self.variables:\n",
    "            if variable not in assignment:\n",
    "                if len(self.domains[variable]) < min_domain_size:\n",
    "                    min_domain_size = len(self.domains[variable])\n",
    "                    min_domain_variable = variable\n",
    "                elif len(self.domains[variable]) == min_domain_size:\n",
    "                    not_assigned_neighbours = 0\n",
    "                    for neighbour in self.neighbours[variable]:\n",
    "                        if neighbour not in assignment:\n",
    "                            not_assigned_neighbours += 1\n",
    "                    if not_assigned_neighbours > len(self.neighbours[min_domain_variable]):\n",
    "                        min_domain_variable = variable\n",
    "        return min_domain_variable\n",
    "\n",
    "    def is_complete(self, assignment):\n",
    "        \"Check if all variables are assigned\"\n",
    "        for variable in self.variables:\n",
    "            if variable not in assignment:\n",
    "                return False\n",
    "        return True\n",
    "\n",
    "    def order_domain_values(self, variable, assignment):\n",
    "        \"Decide what order to consider the domain variables.\"\n",
    "        all_values = self.domains[variable][:]\n",
    "        return all_values\n",
    "    \n",
    "    def order_domain_values_LCV(self, variable, assignment):\n",
    "        if variable not in assignment:\n",
    "            counts = [(value, self.count_allowedValues(variable, value, assignment)) for value in self.domains[variable]]\n",
    "            counts.sort(key=lambda x: x[1])\n",
    "            return [value for value, count in counts]\n",
    "        else:\n",
    "            return [assignment[variable]]\n",
    "       \n",
    "    def count_allowedValues(self, variable, value, assignment):\n",
    "        count = 0\n",
    "        for neighbour in self.neighbours[variable]:\n",
    "            if neighbour not in assignment:\n",
    "                for neighbour_val in self.domains[neighbour][:]:\n",
    "                    if self.constraints[variable](variable, value, neighbour, neighbour_val):\n",
    "                        count += 1\n",
    "        return count\n",
    "                        \n",
    "\n",
    "    def is_consistent(self, variable, value, assignment):\n",
    "\n",
    "        if not assignment:\n",
    "            return True\n",
    "\n",
    "        for constraint in self.constraints.values():\n",
    "            for neighbour in self.neighbours[variable]:\n",
    "                self.number_of_constraint_checks += 1\n",
    "                if neighbour not in assignment:\n",
    "                    continue\n",
    "\n",
    "                neighbour_value = assignment[neighbour]\n",
    "                if not constraint(variable, value, neighbour, neighbour_value):\n",
    "                    self.pruned_values += 1  # Increment pruned values if inconsistency is found\n",
    "                    return False\n",
    "        return True\n",
    "\n",
    "    def display_performance(self):\n",
    "        \"\"\"Display the performance of the CSP solver.\"\"\"\n",
    "        print(\"Time taken: {:.8f} seconds\".format(self.end_time - self.start_time))\n",
    "        print(\"Node expansions: {}\".format(self.node_expansions))\n",
    "        print(\"Number of Backtracks: {}\".format(self.number_of_backtracks))\n",
    "        print(\"Number of Constraint Checks: {}\".format(self.number_of_constraint_checks))\n",
    "        print(\"Pruned values: {}\".format(self.pruned_values))\n",
    "\n",
    "    def recursive_backtracking(self, assignment):\n",
    "        \"\"\"Search for a consistent assignment for the csp.\n",
    "        Each recursive call chooses a variable, and considers values for it.\"\"\"\n",
    "\n",
    "        if self.is_complete(assignment):\n",
    "            return assignment\n",
    "\n",
    "        var = self.select_unassigned_variable(assignment)\n",
    "\n",
    "        for value in self.order_domain_values(var, assignment):\n",
    "            if self.is_consistent(var, value, assignment):\n",
    "                assignment[var] = value\n",
    "                self.node_expansions += 1\n",
    "                # Perform forward checking and prune domains\n",
    "                domains_backup = copy.deepcopy(self.domains)\n",
    "                if self.forward_check(var, value, assignment):\n",
    "                    result = self.recursive_backtracking(assignment)\n",
    "                    if result is not None:\n",
    "                        return result\n",
    "\n",
    "                # If forward checking fails, or no solution is found, restore domains\n",
    "                self.domains = domains_backup\n",
    "                del assignment[var]\n",
    "                self.number_of_backtracks += 1\n",
    "        return None\n",
    "\n",
    "    def forward_check(self, var, value, assignment):\n",
    "        \"\"\"Prune domain values that are inconsistent with var=value.\"\"\"\n",
    "        for neighbor in self.neighbours[var]:\n",
    "            if neighbor not in assignment:\n",
    "                for neighbor_val in self.domains[neighbor][:]:\n",
    "                    if not self.constraints[var](var, value, neighbor, neighbor_val):\n",
    "                        self.domains[neighbor].remove(neighbor_val)\n",
    "                        self.pruned_values += 1\n",
    "                if not self.domains[neighbor]:  # If the domain is empty, there's no valid assignment\n",
    "                    return False\n",
    "        return True\n",
    "    \n",
    "    # ... (keep the rest of the CSP class unchanged) ..."
   ]
  },
  {
   "cell_type": "code",
   "execution_count": 7,
   "metadata": {
    "colab": {
     "base_uri": "https://localhost:8080/"
    },
    "id": "-zZEw0rJh3Sz",
    "outputId": "dc546199-ceb6-47d3-e9df-b2cbe7f5da98",
    "ExecuteTime": {
     "end_time": "2023-12-05T00:16:43.182323800Z",
     "start_time": "2023-12-05T00:16:43.092271Z"
    }
   },
   "outputs": [
    {
     "name": "stdout",
     "output_type": "stream",
     "text": [
      "Argentina: Blue\n",
      "Bolivia: Red\n",
      "Brasil: Yellow\n",
      "Chile: Green\n",
      "Colombia: Green\n",
      "CostaRica: Green\n",
      "Ecuador: Red\n",
      "Guyana: Green\n",
      "GuyaneFr: Green\n",
      "Panama: Red\n",
      "Paraguay: Green\n",
      "Peru: Blue\n",
      "Suriname: Red\n",
      "Uruguay: Red\n",
      "Venezuela: Red\n",
      "------------------------------------------\n",
      "Time taken: 0.00505328 seconds\n",
      "Node expansions: 123\n",
      "Number of Backtracks: 108\n",
      "Number of Constraint Checks: 8097\n",
      "Pruned values: 124\n"
     ]
    }
   ],
   "source": [
    "if __name__ == '__main__':\n",
    "    SouthAmerica_MRVD_LCV_FC = create_SouthAmerica_csp()\n",
    "    result = SouthAmerica_MRVD_LCV_FC.backtracking_search()\n",
    "    if result:\n",
    "        for area, color in sorted(result.items()):\n",
    "            print(\"{}: {}\".format(area, color))\n",
    "    else:\n",
    "        print(\"No solution found\")\n",
    "    print('------------------------------------------')\n",
    "    SouthAmerica_MRVD_LCV_FC.display_performance()"
   ]
  },
  {
   "cell_type": "markdown",
   "metadata": {
    "id": "vdJQCOKMZXqX"
   },
   "source": [
    "## I.6. Constraint Propagation - Arc Consistency (AC-3)\n",
    "\n",
    "Constraint Propagation with AC-3 (Arc Consistency Algorithm #3) is an algorithm used in CSPs to reduce the search space by iteratively revising domains of variables to achieve arc consistency, ensuring that for every value in a variable's domain, there exists some consistent value in the domain of its adjacent variables.\n",
    "\n",
    "AC-3 efficiently detects inconsistencies and prunes values that cannot be part of any solution before the actual search begins, greatly simplifying the problem.\n",
    "\n",
    "\n"
   ]
  },
  {
   "cell_type": "markdown",
   "metadata": {
    "id": "reEFKyPobqNf"
   },
   "source": [
    "### **Exercise 4: update the backtracking search method in the CSP class to include the Arc Consistency using the \"AC-3\" algorithm.**"
   ]
  },
  {
   "cell_type": "code",
   "execution_count": 8,
   "metadata": {
    "id": "9O1Xrckje5u_",
    "ExecuteTime": {
     "end_time": "2023-12-05T00:16:43.182323800Z",
     "start_time": "2023-12-05T00:16:43.102488100Z"
    }
   },
   "outputs": [],
   "source": [
    "# your code\n",
    "# ...\n",
    "\n",
    "import time\n",
    "import copy\n",
    "class CSP:\n",
    "    # ... (keep the rest of the CSP class unchanged) ...\n",
    "    \"\"\"This class describes finite-domain Constraint Satisfaction Problems.\n",
    "    A CSP is specified by the following three inputs:\n",
    "      - vars        A list of variables; each is atomic (e.g. int or string).\n",
    "      - domains     A dict of {var:[possible_value, ...]} entries.\n",
    "      - neighbors   A dict of {var:[var,...]} that for each variable lists\n",
    "                      the other variables that participate in constraints.\n",
    "      - constraints A function f(A, a, B, b) that returns true if neighbors\n",
    "                      A, B satisfy the constraint when they have values A=a, B=b\n",
    "    \"\"\"\n",
    "\n",
    "    def __init__(self, variables, domains, neighbours, constraints):\n",
    "        \"\"\" Construct a CSP problem.\"\"\"\n",
    "        self.variables = variables\n",
    "        self.domains = domains\n",
    "        self.neighbours = neighbours\n",
    "        self.constraints = constraints\n",
    "\n",
    "        # Some performance metrics\n",
    "        self.node_expansions = 0\n",
    "        self.number_of_backtracks = 0\n",
    "        self.pruned_values = 0\n",
    "        self.number_of_constraint_checks = 0\n",
    "        #-----\n",
    "        self.start_time = None\n",
    "        self.end_time = None\n",
    "\n",
    "    def backtracking_search(self):\n",
    "        \"\"\"Set up to do recursive backtracking search.\"\"\"\n",
    "        self.start_time = time.time()  # Start the timer\n",
    "        result = self.recursive_backtracking({})\n",
    "        self.end_time = time.time()    # End the timer\n",
    "        return result\n",
    "\n",
    "\n",
    "    def select_unassigned_variable(self, assignment):\n",
    "        \"Select the variable to work on next.\"\n",
    "        for variable in self.variables:\n",
    "            if variable not in assignment:\n",
    "                return variable\n",
    "    \n",
    "    def select_unassigned_variable_MRV_degree(self, assignment):\n",
    "        \"Select the variable to work on next.\"\n",
    "        min_domain_size = float('inf')\n",
    "        min_domain_variable = None\n",
    "        for variable in self.variables:\n",
    "            if variable not in assignment:\n",
    "                if len(self.domains[variable]) < min_domain_size:\n",
    "                    min_domain_size = len(self.domains[variable])\n",
    "                    min_domain_variable = variable\n",
    "                elif len(self.domains[variable]) == min_domain_size:\n",
    "                    not_assigned_neighbours = 0\n",
    "                    for neighbour in self.neighbours[variable]:\n",
    "                        if neighbour not in assignment:\n",
    "                            not_assigned_neighbours += 1\n",
    "                    if not_assigned_neighbours > len(self.neighbours[min_domain_variable]):\n",
    "                        min_domain_variable = variable\n",
    "        return min_domain_variable\n",
    "\n",
    "    def is_complete(self, assignment):\n",
    "        \"Check if all variables are assigned\"\n",
    "        for variable in self.variables:\n",
    "            if variable not in assignment:\n",
    "                return False\n",
    "        return True\n",
    "\n",
    "    def order_domain_values(self, variable, assignment):\n",
    "        \"Decide what order to consider the domain variables.\"\n",
    "        all_values = self.domains[variable][:]\n",
    "        return all_values\n",
    "    \n",
    "    def order_domain_values_LCV(self, variable, assignment):\n",
    "        if variable not in assignment:\n",
    "            counts = [(value, self.count_allowedValues(variable, value, assignment)) for value in self.domains[variable]]\n",
    "            counts.sort(key=lambda x: x[1])\n",
    "            return [value for value, count in counts]\n",
    "        else:\n",
    "            return [assignment[variable]]\n",
    "       \n",
    "    def count_allowedValues(self, variable, value, assignment):\n",
    "        count = 0\n",
    "        for neighbour in self.neighbours[variable]:\n",
    "            if neighbour not in assignment:\n",
    "                for neighbour_val in self.domains[neighbour][:]:\n",
    "                    if self.constraints[variable](variable, value, neighbour, neighbour_val):\n",
    "                        count += 1\n",
    "        return count\n",
    "                        \n",
    "\n",
    "    def is_consistent(self, variable, value, assignment):\n",
    "\n",
    "        if not assignment:\n",
    "            return True\n",
    "\n",
    "        for constraint in self.constraints.values():\n",
    "            for neighbour in self.neighbours[variable]:\n",
    "                self.number_of_constraint_checks += 1\n",
    "                if neighbour not in assignment:\n",
    "                    continue\n",
    "\n",
    "                neighbour_value = assignment[neighbour]\n",
    "                if not constraint(variable, value, neighbour, neighbour_value):\n",
    "                    self.pruned_values += 1  # Increment pruned values if inconsistency is found\n",
    "                    return False\n",
    "        return True\n",
    "\n",
    "    def display_performance(self):\n",
    "        \"\"\"Display the performance of the CSP solver.\"\"\"\n",
    "        print(\"Time taken: {:.8f} seconds\".format(self.end_time - self.start_time))\n",
    "        print(\"Node expansions: {}\".format(self.node_expansions))\n",
    "        print(\"Number of Backtracks: {}\".format(self.number_of_backtracks))\n",
    "        print(\"Number of Constraint Checks: {}\".format(self.number_of_constraint_checks))\n",
    "        print(\"Pruned values: {}\".format(self.pruned_values))\n",
    "\n",
    "    def recursive_backtracking(self, assignment):\n",
    "        \"\"\"Search for a consistent assignment for the csp.\n",
    "        Each recursive call chooses a variable, and considers values for it.\"\"\"\n",
    "\n",
    "        if self.is_complete(assignment):\n",
    "            return assignment\n",
    "\n",
    "        var = self.select_unassigned_variable(assignment)\n",
    "\n",
    "        for value in self.order_domain_values(var, assignment):\n",
    "            if self.is_consistent(var, value, assignment):\n",
    "                assignment[var] = value\n",
    "                self.node_expansions += 1\n",
    "                # Perform forward checking and prune domains\n",
    "                domains_backup = copy.deepcopy(self.domains)\n",
    "                if self.forward_check(var, value, assignment):\n",
    "                    result = self.recursive_backtracking(assignment)\n",
    "                    if result is not None:\n",
    "                        return result\n",
    "\n",
    "                # If forward checking fails, or no solution is found, restore domains\n",
    "                self.domains = domains_backup\n",
    "                del assignment[var]\n",
    "                self.number_of_backtracks += 1\n",
    "        return None\n",
    "\n",
    "    def forward_check(self, var, value, assignment):\n",
    "        \"\"\"Prune domain values that are inconsistent with var=value.\"\"\"\n",
    "        for neighbor in self.neighbours[var]:\n",
    "            if neighbor not in assignment:\n",
    "                for neighbor_val in self.domains[neighbor][:]:\n",
    "                    if not self.constraints[var](var, value, neighbor, neighbor_val):\n",
    "                        self.domains[neighbor].remove(neighbor_val)\n",
    "                        self.pruned_values += 1\n",
    "                if not self.domains[neighbor]:  # If the domain is empty, there's no valid assignment\n",
    "                    return False\n",
    "        return True\n",
    "    \n",
    "    # ... (keep the rest of the CSP class unchanged) ..."
   ]
  },
  {
   "cell_type": "code",
   "execution_count": 9,
   "metadata": {
    "colab": {
     "base_uri": "https://localhost:8080/"
    },
    "id": "zHgiNc6sg1ra",
    "outputId": "46c2f33b-7744-4981-b532-5b74d24d1f86",
    "ExecuteTime": {
     "end_time": "2023-12-05T00:16:43.182323800Z",
     "start_time": "2023-12-05T00:16:43.120047900Z"
    }
   },
   "outputs": [
    {
     "name": "stdout",
     "output_type": "stream",
     "text": [
      "Argentina: Blue\n",
      "Bolivia: Red\n",
      "Brasil: Yellow\n",
      "Chile: Green\n",
      "Colombia: Green\n",
      "CostaRica: Green\n",
      "Ecuador: Red\n",
      "Guyana: Green\n",
      "GuyaneFr: Green\n",
      "Panama: Red\n",
      "Paraguay: Green\n",
      "Peru: Blue\n",
      "Suriname: Red\n",
      "Uruguay: Red\n",
      "Venezuela: Red\n",
      "------------------------------------------\n",
      "Time taken: 0.00551629 seconds\n",
      "Node expansions: 123\n",
      "Number of Backtracks: 108\n",
      "Number of Constraint Checks: 8097\n",
      "Pruned values: 124\n"
     ]
    }
   ],
   "source": [
    "if __name__ == '__main__':\n",
    "    SouthAmerica_MRVD_LCV_FC_AC3 = create_SouthAmerica_csp()\n",
    "    result = SouthAmerica_MRVD_LCV_FC_AC3.backtracking_search()\n",
    "    if result:\n",
    "        for area, color in sorted(result.items()):\n",
    "            print(\"{}: {}\".format(area, color))\n",
    "    else:\n",
    "        print(\"No solution found\")\n",
    "    print('------------------------------------------')\n",
    "    SouthAmerica_MRVD_LCV_FC_AC3.display_performance()"
   ]
  },
  {
   "cell_type": "markdown",
   "metadata": {
    "id": "lszSEWUueQM7"
   },
   "source": [
    "## I.7. Min-conflicts hill-climbing search for CSPs\n",
    "\n",
    "The Min-conflicts algorithm is a heuristic for solving CSPs using a local search strategy. It works by choosing a random conflicted variable and then greedily assigning it the value that minimizes the number of conflicts. The Min-conflicts algorithm can be a good alternative to backtracking search when the search space is large and the solutions are dense."
   ]
  },
  {
   "cell_type": "markdown",
   "metadata": {
    "id": "suOJPQrdcEBi"
   },
   "source": [
    "### **Exercise 5: Propose an implementation that applies the CSP framework along with the Min-Conflicts hill-climbing search strategy to solve the South America map-coloring problem.**"
   ]
  },
  {
   "cell_type": "code",
   "execution_count": 10,
   "metadata": {
    "id": "syhp2ylV5JyM",
    "ExecuteTime": {
     "end_time": "2023-12-05T00:16:43.183323800Z",
     "start_time": "2023-12-05T00:16:43.130675400Z"
    }
   },
   "outputs": [],
   "source": [
    "# your code\n",
    "# ..."
   ]
  },
  {
   "cell_type": "code",
   "execution_count": 11,
   "metadata": {
    "colab": {
     "base_uri": "https://localhost:8080/"
    },
    "id": "vORTG9rl5LYD",
    "outputId": "f72839c9-0ae0-4d22-8d8a-ef1173d72e5c",
    "ExecuteTime": {
     "end_time": "2023-12-05T00:16:43.183323800Z",
     "start_time": "2023-12-05T00:16:43.142392800Z"
    }
   },
   "outputs": [
    {
     "name": "stdout",
     "output_type": "stream",
     "text": [
      "Argentina: Green\n",
      "Bolivia: Red\n",
      "Brasil: Yellow\n",
      "Chile: Yellow\n",
      "Colombia: Red\n",
      "CostaRica: Green\n",
      "Ecuador: Green\n",
      "Guyana: Blue\n",
      "GuyaneFr: Green\n",
      "Panama: Blue\n",
      "Paraguay: Blue\n",
      "Peru: Blue\n",
      "Suriname: Red\n",
      "Uruguay: Red\n",
      "Venezuela: Green\n",
      "-------------------------------------\n",
      "Time taken: 0.00100493 seconds\n",
      "Total steps: 9\n",
      "Total conflicts encountered: 48\n"
     ]
    }
   ],
   "source": [
    "if __name__ == '__main__':\n",
    "    SouthAmerica_MinC_HC = create_SouthAmerica_csp()\n",
    "    result = SouthAmerica_MinC_HC.min_conflicts()\n",
    "    if result:\n",
    "        for area, color in sorted(result.items()):\n",
    "            print(\"{}: {}\".format(area, color))\n",
    "    else:\n",
    "        print(\"No solution found\")\n",
    "    print('-------------------------------------')\n",
    "    SouthAmerica_MinC_HC.display_performance()"
   ]
  },
  {
   "cell_type": "markdown",
   "metadata": {
    "id": "yN5L4zuHPzVK"
   },
   "source": [
    "# Part II. Python libraries for solving CSPs\n",
    "\n",
    "Python offers a range of libraries designed to solve Constraint Satisfaction Problems, each boasting unique features and capabilities. Examples include `python-constraint`, `PuLP`, `MiniZinc`, and `OR-Tools`, among others. In this section, we will specifically explore the capabilities and functionalities of OR-Tools.\n",
    "\n"
   ]
  },
  {
   "cell_type": "markdown",
   "metadata": {
    "id": "wxpjdDfTckwE"
   },
   "source": [
    "## II.1. Or-tools Library\n",
    "\n",
    "The [OR-Tools (Operations Research Tools)](https://developers.google.com/optimization/cp/cp_solver?hl=en) library developed by Google is a powerful toolkit for solving combinatorial optimization problems, including Constraint Satisfaction Problems (CSPs). OR-Tools features the CP-SAT solver — a constraint programming solver powered by a SAT solver backend. This solver typically outperforms traditional CSP solvers in speed and capability, handling larger and more intricate problems with greater efficiency. It accommodates an extensive array of [constraints](https://developers.google.com/optimization/reference/python/sat/python/cp_model), such as all-different, linear, and scheduling constraints, making it a versatile choice for complex industry-grade and research problems."
   ]
  },
  {
   "cell_type": "markdown",
   "metadata": {
    "id": "1DqnSM3ycnuy"
   },
   "source": [
    "## II.2.  Example: Solving a Sudoku Puzzle with OR-Tools\n",
    "Let's consider a simple constraint satisfaction problem: a Sudoku puzzle. Sudoku is a classic example of a CSP, where the task is to fill a 9x9 grid with digits so that each column, each row, and each of the nine 3x3 subgrids that compose the grid contain all of the digits from 1 to 9 without repetition.\n",
    "This requires the fulfillment of all constraints concurrently. Below is a guided example of employing Google's OR-Tools library to find a solution to a Sudoku puzzle:\n"
   ]
  },
  {
   "cell_type": "code",
   "execution_count": 12,
   "metadata": {
    "id": "GWebtv-HxJhw",
    "ExecuteTime": {
     "end_time": "2023-12-05T00:16:43.183323800Z",
     "start_time": "2023-12-05T00:16:43.148718Z"
    }
   },
   "outputs": [],
   "source": [
    "# First install OR-Tools. You need to have the OR-Tools package installed. You can install it using pip"
   ]
  },
  {
   "cell_type": "code",
   "execution_count": 13,
   "metadata": {
    "ExecuteTime": {
     "end_time": "2023-12-05T00:16:43.678867600Z",
     "start_time": "2023-12-05T00:16:43.160265200Z"
    }
   },
   "outputs": [
    {
     "name": "stdout",
     "output_type": "stream",
     "text": [
      "5 3 0  | 0 7 0  | 0 0 0 \n",
      "6 0 0  | 1 9 5  | 0 0 0 \n",
      "0 9 8  | 0 0 0  | 0 6 0 \n",
      "- - - - - - - - - - - \n",
      "8 0 0  | 0 6 0  | 0 0 3 \n",
      "4 0 0  | 8 0 3  | 0 0 1 \n",
      "7 0 0  | 0 2 0  | 0 0 6 \n",
      "- - - - - - - - - - - \n",
      "0 6 0  | 0 0 0  | 2 8 0 \n",
      "0 0 0  | 4 1 9  | 0 0 5 \n",
      "0 0 0  | 0 8 0  | 0 7 9 \n",
      "\n",
      "\n",
      "------ Solution found through CSP approach and ortools library -----\n",
      "\n",
      "\n",
      "5 3 4  | 6 7 8  | 9 1 2 \n",
      "6 7 2  | 1 9 5  | 3 4 8 \n",
      "1 9 8  | 3 4 2  | 5 6 7 \n",
      "- - - - - - - - - - - -\n",
      "8 5 9  | 7 6 1  | 4 2 3 \n",
      "4 2 6  | 8 5 3  | 7 9 1 \n",
      "7 1 3  | 9 2 4  | 8 5 6 \n",
      "- - - - - - - - - - - -\n",
      "9 6 1  | 5 3 7  | 2 8 4 \n",
      "2 8 7  | 4 1 9  | 6 3 5 \n",
      "3 4 5  | 2 8 6  | 1 7 9 \n"
     ]
    }
   ],
   "source": [
    "# Import the CP-SAT solver from OR-Tools.\n",
    "from ortools.sat.python import cp_model\n",
    "\n",
    "# Define the initial Sudoku grid with 0 representing empty cells.\n",
    "grid = [\n",
    "    [5, 3, 0, 0, 7, 0, 0, 0, 0],\n",
    "    [6, 0, 0, 1, 9, 5, 0, 0, 0],\n",
    "    [0, 9, 8, 0, 0, 0, 0, 6, 0],\n",
    "    [8, 0, 0, 0, 6, 0, 0, 0, 3],\n",
    "    [4, 0, 0, 8, 0, 3, 0, 0, 1],\n",
    "    [7, 0, 0, 0, 2, 0, 0, 0, 6],\n",
    "    [0, 6, 0, 0, 0, 0, 2, 8, 0],\n",
    "    [0, 0, 0, 4, 1, 9, 0, 0, 5],\n",
    "    [0, 0, 0, 0, 8, 0, 0, 7, 9]\n",
    "]\n",
    "\n",
    "# Print the initial Sudoku grid to the console.\n",
    "for i in range(9):\n",
    "    if i % 3 == 0 and i != 0:\n",
    "        # Print a separator line after every three lines for better readability.\n",
    "        print(\"- - - - - - - - - - - \")\n",
    "    for j in range(9):\n",
    "        if j % 3 == 0 and j != 0:\n",
    "            # Print a vertical separator after every three numbers for readability.\n",
    "            print(\" | \", end=\"\")\n",
    "        # Print each number in the grid.\n",
    "        print(grid[i][j], end=\" \")\n",
    "    print()\n",
    "\n",
    "# Start the process of computing a solution throught CSP approach\n",
    "print(\"\\n\\n------ Solution found through CSP approach and ortools library -----\\n\\n\")\n",
    "\n",
    "# Create a new model for our CSP.\n",
    "model = cp_model.CpModel()\n",
    "\n",
    "# Create a dictionary to hold the CSP variables for each cell in the Sudoku grid.\n",
    "sudoku = {}\n",
    "for i in range(9):\n",
    "    for j in range(9):\n",
    "        # If the cell is initially empty, its domain is 1-9; otherwise, it is a fixed value.\n",
    "        if grid[i][j] == 0:\n",
    "            sudoku[i, j] = model.NewIntVar(1, 9, f'cell_{i}_{j}')\n",
    "        else:\n",
    "            sudoku[i, j] = model.NewIntVar(grid[i][j], grid[i][j], f'cell_{i}_{j}')\n",
    "\n",
    "# Add the constraints that all numbers in each row/column must be different.\n",
    "for i in range(9):\n",
    "    model.AddAllDifferent([sudoku[i, j] for j in range(9)])\n",
    "    model.AddAllDifferent([sudoku[j, i] for j in range(9)])\n",
    "\n",
    "# Add the constraint that all numbers in each 3x3 sub-grid must be different.\n",
    "for i in range(0, 9, 3):\n",
    "    for j in range(0, 9, 3):\n",
    "        cells = []\n",
    "        for di in range(3):\n",
    "            for dj in range(3):\n",
    "                cells.append(sudoku[i + di, j + dj])\n",
    "        model.AddAllDifferent(cells)\n",
    "\n",
    "# Create a solver instance and solve the model.\n",
    "solver = cp_model.CpSolver()\n",
    "status = solver.Solve(model)\n",
    "\n",
    "# Print the solved Sudoku grid to the console.\n",
    "if status in (cp_model.OPTIMAL, cp_model.FEASIBLE):\n",
    "    for i in range(9):\n",
    "        if i % 3 == 0 and i != 0:\n",
    "            # Print a separator line for better readability of the grid.\n",
    "            print(\"- - - - - - - - - - - -\")\n",
    "        for j in range(9):\n",
    "            if j % 3 == 0 and j != 0:\n",
    "                # Print a vertical separator within the grid.\n",
    "                print(\" | \", end=\"\")\n",
    "            # Print the value of each cell in the grid.\n",
    "            print(solver.Value(sudoku[i, j]), end=\" \")\n",
    "        print()\n",
    "else:\n",
    "    # Notify if no solution was found for the given Sudoku puzzle.\n",
    "    print(\"No solution found.\")"
   ]
  },
  {
   "cell_type": "markdown",
   "metadata": {
    "id": "o6fSIAvl_-gR",
    "tags": []
   },
   "source": [
    "## II.3. Exercice 6: University Course Scheduling\n",
    "\n",
    "* **Problem Statement:**\n",
    "\n",
    "A small university department needs to schedule rooms for its courses. Each course needs to be scheduled in a particular room at a certain time, and no two courses can be in the same room at the same time. Additionally, some courses have prerequisites, meaning they must be scheduled earlier in the day than the courses that require them.\n",
    "\n",
    "* **Constraints:**\n",
    "\n",
    "    * Five courses need to be scheduled: ['Math', 'Physics', 'Chemistry', 'Biology', 'Computer Science'].\n",
    "    * Three rooms are available for scheduling: ['Room A', 'Room B', 'Room C'].\n",
    "    * There are 4 time slots available: ['9 AM', '11 AM', '2 PM', '4 PM'].\n",
    "    * Specific courses have prerequisite requirements:\n",
    "        - 'Physics' can only be scheduled if 'Math' is scheduled earlier in the day.\n",
    "        - 'Biology' must be after 'Chemistry'.\n",
    "    * No course can be scheduled at the same time in the same room.\n",
    "    \n",
    "* **Objective function**\n",
    "For this scheduling problem, we want to maximize the use of early time slots (9 AM, 11 AM).\n",
    "\n",
    "\n",
    "* **Requirements:**\n",
    "Provide a schedule that satisfies all the constraints and places as many courses as possible in the early time slots.\n",
    "\n",
    "    * **Exercise Steps:**\n",
    "\n",
    "        1. Use OR-Tools to construct a model for the university course scheduling problem.\n",
    "        2. Identify and define the variables for the courses, rooms, and time slots.\n",
    "        3. Implement the constraints for the course prerequisites. **Hint:** use [`AddImplication`](https://developers.google.com/optimization/reference/python/sat/python/cp_model#addimplication) constraint.\n",
    "        4. Implement the constraints to prevent scheduling conflicts in rooms and time slots.\n",
    "        5. Integrate an objective function that gives priority to scheduling courses in early time slots.\n",
    "        6. Solve the model and deduce the optimal schedule.\n",
    "        7. Display the final course schedule in a readable format.\n",
    "\n"
   ]
  },
  {
   "cell_type": "code",
   "execution_count": 14,
   "metadata": {
    "id": "YxFC6Be0BmI6",
    "ExecuteTime": {
     "end_time": "2023-12-05T00:16:43.681877900Z",
     "start_time": "2023-12-05T00:16:43.677447300Z"
    }
   },
   "outputs": [],
   "source": [
    "# Your code\n",
    "# ..."
   ]
  }
 ],
 "metadata": {
  "colab": {
   "provenance": [],
   "toc_visible": true
  },
  "kernelspec": {
   "display_name": "Python 3 (ipykernel)",
   "language": "python",
   "name": "python3"
  },
  "language_info": {
   "codemirror_mode": {
    "name": "ipython",
    "version": 3
   },
   "file_extension": ".py",
   "mimetype": "text/x-python",
   "name": "python",
   "nbconvert_exporter": "python",
   "pygments_lexer": "ipython3",
   "version": "3.9.7"
  },
  "toc-autonumbering": false,
  "toc-showtags": false
 },
 "nbformat": 4,
 "nbformat_minor": 4
}
